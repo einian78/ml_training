{
 "cells": [
  {
   "cell_type": "markdown",
   "metadata": {},
   "source": [
    "# Alberta Covid19 data model\n",
    "This notebook constructs the cumulative new patients stats from the Alberta Health data, fits a logistic function to the data, and predicts when the pandemic spread curve is flattened to less than one new patient per day. \n",
    "Note: Easing social distancing measures may reintriduce a secondary logistic curve."
   ]
  },
  {
   "cell_type": "code",
   "execution_count": 3,
   "metadata": {},
   "outputs": [],
   "source": [
    "#https://covid19stats.alberta.ca/\n",
    "import pandas as pd\n",
    "import numpy as np\n",
    "import matplotlib.pyplot as plt\n",
    "from scipy.optimize import curve_fit#,root,fsolve\n",
    "import matplotlib.dates as mdates\n",
    "from sklearn.metrics import mean_squared_error as mse\n",
    "%matplotlib inline"
   ]
  },
  {
   "cell_type": "markdown",
   "metadata": {},
   "source": [
    "### Download the data, do basic cleaning and set the starting date to March 1."
   ]
  },
  {
   "cell_type": "code",
   "execution_count": 4,
   "metadata": {},
   "outputs": [
    {
     "data": {
      "text/html": [
       "<div>\n",
       "<style scoped>\n",
       "    .dataframe tbody tr th:only-of-type {\n",
       "        vertical-align: middle;\n",
       "    }\n",
       "\n",
       "    .dataframe tbody tr th {\n",
       "        vertical-align: top;\n",
       "    }\n",
       "\n",
       "    .dataframe thead th {\n",
       "        text-align: right;\n",
       "    }\n",
       "</style>\n",
       "<table border=\"1\" class=\"dataframe\">\n",
       "  <thead>\n",
       "    <tr style=\"text-align: right;\">\n",
       "      <th></th>\n",
       "      <th>Date reported</th>\n",
       "      <th>Alberta Health Services Zone</th>\n",
       "      <th>Gender</th>\n",
       "      <th>Age group</th>\n",
       "      <th>Case status</th>\n",
       "      <th>Case type</th>\n",
       "      <th>time since</th>\n",
       "    </tr>\n",
       "  </thead>\n",
       "  <tbody>\n",
       "    <tr>\n",
       "      <th>1</th>\n",
       "      <td>2020-04-21</td>\n",
       "      <td>Calgary Zone</td>\n",
       "      <td>Male</td>\n",
       "      <td>Unknown</td>\n",
       "      <td>Active</td>\n",
       "      <td>Confirmed</td>\n",
       "      <td>51</td>\n",
       "    </tr>\n",
       "    <tr>\n",
       "      <th>2</th>\n",
       "      <td>2020-04-23</td>\n",
       "      <td>Calgary Zone</td>\n",
       "      <td>Female</td>\n",
       "      <td>40-49 years</td>\n",
       "      <td>Active</td>\n",
       "      <td>Confirmed</td>\n",
       "      <td>53</td>\n",
       "    </tr>\n",
       "    <tr>\n",
       "      <th>3</th>\n",
       "      <td>2020-04-21</td>\n",
       "      <td>Calgary Zone</td>\n",
       "      <td>Male</td>\n",
       "      <td>80+ years</td>\n",
       "      <td>Active</td>\n",
       "      <td>Confirmed</td>\n",
       "      <td>51</td>\n",
       "    </tr>\n",
       "    <tr>\n",
       "      <th>4</th>\n",
       "      <td>2020-04-29</td>\n",
       "      <td>South Zone</td>\n",
       "      <td>Male</td>\n",
       "      <td>40-49 years</td>\n",
       "      <td>Active</td>\n",
       "      <td>Confirmed</td>\n",
       "      <td>59</td>\n",
       "    </tr>\n",
       "    <tr>\n",
       "      <th>5</th>\n",
       "      <td>2020-04-27</td>\n",
       "      <td>Calgary Zone</td>\n",
       "      <td>Male</td>\n",
       "      <td>50-59 years</td>\n",
       "      <td>Active</td>\n",
       "      <td>Confirmed</td>\n",
       "      <td>57</td>\n",
       "    </tr>\n",
       "    <tr>\n",
       "      <th>...</th>\n",
       "      <td>...</td>\n",
       "      <td>...</td>\n",
       "      <td>...</td>\n",
       "      <td>...</td>\n",
       "      <td>...</td>\n",
       "      <td>...</td>\n",
       "      <td>...</td>\n",
       "    </tr>\n",
       "    <tr>\n",
       "      <th>5666</th>\n",
       "      <td>2020-05-01</td>\n",
       "      <td>Calgary Zone</td>\n",
       "      <td>Male</td>\n",
       "      <td>50-59 years</td>\n",
       "      <td>Active</td>\n",
       "      <td>Probable</td>\n",
       "      <td>61</td>\n",
       "    </tr>\n",
       "    <tr>\n",
       "      <th>5667</th>\n",
       "      <td>2020-05-01</td>\n",
       "      <td>South Zone</td>\n",
       "      <td>Female</td>\n",
       "      <td>20-29 years</td>\n",
       "      <td>Active</td>\n",
       "      <td>Probable</td>\n",
       "      <td>61</td>\n",
       "    </tr>\n",
       "    <tr>\n",
       "      <th>5668</th>\n",
       "      <td>2020-03-22</td>\n",
       "      <td>Calgary Zone</td>\n",
       "      <td>Male</td>\n",
       "      <td>20-29 years</td>\n",
       "      <td>Recovered</td>\n",
       "      <td>Probable</td>\n",
       "      <td>21</td>\n",
       "    </tr>\n",
       "    <tr>\n",
       "      <th>5669</th>\n",
       "      <td>2020-03-26</td>\n",
       "      <td>Calgary Zone</td>\n",
       "      <td>Female</td>\n",
       "      <td>30-39 years</td>\n",
       "      <td>Recovered</td>\n",
       "      <td>Probable</td>\n",
       "      <td>25</td>\n",
       "    </tr>\n",
       "    <tr>\n",
       "      <th>5670</th>\n",
       "      <td>2020-04-02</td>\n",
       "      <td>Calgary Zone</td>\n",
       "      <td>Male</td>\n",
       "      <td>20-29 years</td>\n",
       "      <td>Recovered</td>\n",
       "      <td>Probable</td>\n",
       "      <td>32</td>\n",
       "    </tr>\n",
       "  </tbody>\n",
       "</table>\n",
       "<p>5670 rows × 7 columns</p>\n",
       "</div>"
      ],
      "text/plain": [
       "     Date reported Alberta Health Services Zone  Gender    Age group  \\\n",
       "1       2020-04-21                 Calgary Zone    Male      Unknown   \n",
       "2       2020-04-23                 Calgary Zone  Female  40-49 years   \n",
       "3       2020-04-21                 Calgary Zone    Male    80+ years   \n",
       "4       2020-04-29                   South Zone    Male  40-49 years   \n",
       "5       2020-04-27                 Calgary Zone    Male  50-59 years   \n",
       "...            ...                          ...     ...          ...   \n",
       "5666    2020-05-01                 Calgary Zone    Male  50-59 years   \n",
       "5667    2020-05-01                   South Zone  Female  20-29 years   \n",
       "5668    2020-03-22                 Calgary Zone    Male  20-29 years   \n",
       "5669    2020-03-26                 Calgary Zone  Female  30-39 years   \n",
       "5670    2020-04-02                 Calgary Zone    Male  20-29 years   \n",
       "\n",
       "     Case status  Case type  time since  \n",
       "1         Active  Confirmed          51  \n",
       "2         Active  Confirmed          53  \n",
       "3         Active  Confirmed          51  \n",
       "4         Active  Confirmed          59  \n",
       "5         Active  Confirmed          57  \n",
       "...          ...        ...         ...  \n",
       "5666      Active   Probable          61  \n",
       "5667      Active   Probable          61  \n",
       "5668   Recovered   Probable          21  \n",
       "5669   Recovered   Probable          25  \n",
       "5670   Recovered   Probable          32  \n",
       "\n",
       "[5670 rows x 7 columns]"
      ]
     },
     "execution_count": 4,
     "metadata": {},
     "output_type": "execute_result"
    }
   ],
   "source": [
    "#download data manually... the link doesn't work\n",
    "df=pd.read_csv(r\"C:\\Users\\ehsan\\Downloads\\covid19dataexport.csv\",index_col=0)\n",
    "df[\"Date reported\"]=pd.to_datetime(df['Date reported'])\n",
    "basedate=pd.Timestamp(\"2020-03-1\")\n",
    "df['time since']=(df['Date reported']-basedate).dt.days\n",
    "#df = df[df['Case status'] == 'Active']\n",
    "df"
   ]
  },
  {
   "cell_type": "markdown",
   "metadata": {},
   "source": [
    "### Create exploratory pivot tables."
   ]
  },
  {
   "cell_type": "code",
   "execution_count": 5,
   "metadata": {
    "scrolled": true
   },
   "outputs": [
    {
     "data": {
      "image/png": "[encoded data removed]",
      "text/plain": [
       "<Figure size 432x288 with 1 Axes>"
      ]
     },
     "metadata": {
      "needs_background": "light"
     },
     "output_type": "display_data"
    }
   ],
   "source": [
    "table1=pd.pivot_table(df,values='Age group',index=['Date reported','time since'],aggfunc=np.size)\n",
    "table1['cumsum']=table1['Age group'].cumsum()\n",
    "table1.reset_index(inplace=True)\n",
    "table1.drop('Age group',axis=1,inplace=True)\n",
    "\n",
    "\n",
    "x=table1['Date reported']\n",
    "y=table1['cumsum']\n",
    "table1\n",
    "\n",
    "fig,ax=plt.subplots(nrows=1, ncols=1)\n",
    "ax.scatter(x,y,s=2,c='b')\n",
    "locator = mdates.AutoDateLocator()\n",
    "formatter = mdates.ConciseDateFormatter(locator)\n",
    "ax.xaxis.set_major_locator(locator)\n",
    "ax.xaxis.set_major_formatter(formatter)\n",
    "plt.ylabel('Total number of cases')\n",
    "plt.xlabel('Date')\n",
    "plt.title('Alberta Crona Virus cases')\n",
    "plt.show()"
   ]
  },
  {
   "cell_type": "markdown",
   "metadata": {},
   "source": [
    "### Fit a logistic function to the curve"
   ]
  },
  {
   "cell_type": "code",
   "execution_count": 6,
   "metadata": {},
   "outputs": [
    {
     "data": {
      "image/png": "[encoded data removed]",
      "text/plain": [
       "<Figure size 432x288 with 1 Axes>"
      ]
     },
     "metadata": {
      "needs_background": "light"
     },
     "output_type": "display_data"
    }
   ],
   "source": [
    "def myfunc(x,a,b,c):\n",
    "    r=c/(1+np.exp(-(x-b)/a))\n",
    "    return(r)\n",
    "\n",
    "#xx=np.arange(90)\n",
    "#a=9.87\n",
    "#b=44.7\n",
    "#c=4240\n",
    "#yy=myfunc(xx,a,b,c)\n",
    "x=table1['time since']\n",
    "fit=curve_fit(myfunc,x,y,p0=[20,40,2500])\n",
    "a,b,c=fit[0]\n",
    "c=int(c)-1\n",
    "ndays=120\n",
    "\n",
    "xx=np.arange(ndays)\n",
    "yy=myfunc(xx,a,b,c)\n",
    "\n",
    "xx=np.arange(ndays)\n",
    "yy=myfunc(xx,a,b,c)\n",
    "\n",
    "fig,ax=plt.subplots(nrows=1, ncols=1)\n",
    "ax.scatter(table1['time since'],table1['cumsum'],s=2,c='r')\n",
    "ax.plot(xx,yy)\n",
    "plt.ylabel('Total number of cases')\n",
    "plt.xlabel('Days since March 1')\n",
    "plt.title('Alberta Crona Virus cases')\n",
    "plt.show()\n",
    "\n",
    "y_pred=myfunc(x,a,b,c)\n",
    "err=np.sqrt(mse(y,y_pred))\n",
    "\n"
   ]
  },
  {
   "cell_type": "markdown",
   "metadata": {},
   "source": [
    "## Determine when the curve is flattened enough to have less than one new patient per day"
   ]
  },
  {
   "cell_type": "code",
   "execution_count": 7,
   "metadata": {},
   "outputs": [
    {
     "name": "stdout",
     "output_type": "stream",
     "text": [
      "The pandemic spread curve will be flattened to less than one new patient per day in 119 days, or on June 28 2020\n"
     ]
    },
    {
     "data": {
      "image/png": "[encoded data removed]",
      "text/plain": [
       "<Figure size 432x288 with 1 Axes>"
      ]
     },
     "metadata": {
      "needs_background": "light"
     },
     "output_type": "display_data"
    }
   ],
   "source": [
    "for sol in range(ndays):\n",
    "    r=int(c)-myfunc(sol,a,b,c)\n",
    "    if r<1:\n",
    "        break\n",
    "        \n",
    "endday=basedate+pd.DateOffset(days=sol)\n",
    "\n",
    "print('The pandemic spread curve will be flattened to less than one new patient per day in '+str(sol)+' days, or on '+endday.strftime(\"%B %d %Y\"))\n",
    "\n",
    "r=[]\n",
    "for i in range(ndays):\n",
    "    r.append(basedate+pd.DateOffset(days=i))\n",
    "\n",
    "a_r=np.array([r,yy]).T\n",
    "df_pred=pd.DataFrame(a_r,columns=['Date reported','prediction'])\n",
    "\n",
    "\n",
    "df_total=pd.merge(df_pred,table1,on='Date reported',how='left')\n",
    "\n",
    "\n",
    "fig,ax=plt.subplots(1)\n",
    "ax.plot(df_total['Date reported'],df_total['prediction'],c='r')\n",
    "ax.scatter(df_total['Date reported'],df_total['cumsum'],s=2,c='b')\n",
    "locator = mdates.AutoDateLocator()\n",
    "formatter = mdates.ConciseDateFormatter(locator)\n",
    "ax.xaxis.set_major_locator(locator)\n",
    "ax.xaxis.set_major_formatter(formatter)\n",
    "plt.ylabel('Total number of cases')\n",
    "plt.xlabel('Date')\n",
    "plt.title('Alberta Crona Virus cases. error:'+str(np.round(err,3)))\n",
    "plt.show()\n",
    "\n"
   ]
  },
  {
   "cell_type": "code",
   "execution_count": null,
   "metadata": {},
   "outputs": [],
   "source": []
  }
 ],
 "metadata": {
  "kernelspec": {
   "display_name": "Python 3",
   "language": "python",
   "name": "python3"
  },
  "language_info": {
   "codemirror_mode": {
    "name": "ipython",
    "version": 3
   },
   "file_extension": ".py",
   "mimetype": "text/x-python",
   "name": "python",
   "nbconvert_exporter": "python",
   "pygments_lexer": "ipython3",
   "version": "3.7.6"
  }
 },
 "nbformat": 4,
 "nbformat_minor": 4
}
